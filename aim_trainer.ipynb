{
 "cells": [
  {
   "cell_type": "code",
   "execution_count": 1,
   "id": "248bb740-11bb-4945-a665-26d36a7877e5",
   "metadata": {},
   "outputs": [
    {
     "name": "stdout",
     "output_type": "stream",
     "text": [
      "pygame 2.6.0 (SDL 2.28.4, Python 3.12.2)\n",
      "Hello from the pygame community. https://www.pygame.org/contribute.html\n"
     ]
    }
   ],
   "source": [
    "import pygame\n",
    "import math\n",
    "import random\n",
    "import time\n",
    "\n",
    "pygame.init()#used to initialize pygame library\n",
    "\n",
    "width,height=700,600\n",
    "\n"
   ]
  },
  {
   "cell_type": "code",
   "execution_count": 2,
   "id": "8c92202f-47cd-43b8-a8a8-65ae349fdec5",
   "metadata": {},
   "outputs": [],
   "source": [
    "WIN = pygame.display.set_mode((width,height))\n",
    "pygame.display.set_caption(\"aim trainer game\")\n",
    "target_incr = 400\n",
    "target_event = pygame.USEREVENT\n",
    "\n",
    "target_padding = 30\n",
    "lives = 10\n",
    "top_bar_height = 50\n",
    "font = pygame.font.SysFont(\"timenewroman\",20)"
   ]
  },
  {
   "cell_type": "code",
   "execution_count": 3,
   "id": "f34f7ef6-f5ee-4f2f-9da5-265dd3bd1324",
   "metadata": {},
   "outputs": [
    {
     "data": {
      "text/plain": [
       "'here there is problem when we create a aim some os aims are may be overlap between aims so that we need to wipe those aims so now we create a method to wipe that overlaped aims'"
      ]
     },
     "execution_count": 3,
     "metadata": {},
     "output_type": "execute_result"
    }
   ],
   "source": [
    "class Target:\n",
    "    max_size = 30 #aim max size it can be grow \n",
    "    growth_rate = 0.2 #how many pixels you want to growth the target per frame\n",
    "    color = \"blue\"\n",
    "    second_color = \"white\"\n",
    "\n",
    "    def __init__(self,x,y):#randomly generate those position\n",
    "        self.x = x\n",
    "        self.y = y\n",
    "        self.size = 0\n",
    "        self.grow = True\n",
    "\n",
    "    def update(self):#this make aim larger to smaller base in their growing rate\n",
    "        if self.size + self.growth_rate >= self.max_size:\n",
    "            self.grow = False\n",
    "            \n",
    "        if self.grow:\n",
    "            self.size += self.growth_rate\n",
    "\n",
    "        else:\n",
    "            self.size -= self.growth_rate\n",
    "\n",
    "    def draw(self,win):#it draws the target \n",
    "        pygame.draw.circle(win,self.color,(self.x,self.y),self.size)\n",
    "        pygame.draw.circle(win,self.second_color,(self.x,self.y),self.size*0.8)\n",
    "        pygame.draw.circle(win,self.color,(self.x,self.y),self.size*0.6)\n",
    "        pygame.draw.circle(win,self.second_color,(self.x,self.y),self.size*0.4)\n",
    "\n",
    "    def collide(self,x,y):\n",
    "        dis = math.sqrt((x - self.x)**2 + (y - self.y)**2)\n",
    "        return dis <= self.size\n",
    "        \n",
    "\"\"\"here there is problem when we create a aim some os aims are may be overlap between aims so that we need to wipe those aims so now we create a method to wipe that overlaped aims\"\"\" "
   ]
  },
  {
   "cell_type": "code",
   "execution_count": 4,
   "id": "44c3ed2c-fcee-4a00-b0e4-f4c4143a7d93",
   "metadata": {},
   "outputs": [],
   "source": [
    "def draw(win,targets):#wipe the overlapped aims we do it for every single frame\n",
    "    win.fill(\"black\")\n",
    "\n",
    "    for target in targets:\n",
    "        target.draw(win)\n",
    "\n",
    "    "
   ]
  },
  {
   "cell_type": "code",
   "execution_count": 5,
   "id": "b8e55aef-606a-42e6-a34f-b7373592c3dc",
   "metadata": {},
   "outputs": [],
   "source": [
    "def format_time(secs):\n",
    "    mili = math.floor(int(secs * 1000%1000)/100)#it display number of miliseconds from the seconds\n",
    "    seconds = int(round(secs % 60, 1))\n",
    "    minutes = int(secs / 60)\n",
    "\n",
    "    return f\"{minutes:02d}:{seconds:02d}.{mili}\""
   ]
  },
  {
   "cell_type": "code",
   "execution_count": 6,
   "id": "7d82eca5-35ca-4edd-946a-a2d2cd82e4f6",
   "metadata": {},
   "outputs": [],
   "source": [
    "def draw_top_bar(win,elapsed_time,target_pressed,missed):#this method show the score user can acive by clicking the targets\n",
    "    pygame.draw.rect(win,\"white\",(0,0,width,top_bar_height))\n",
    "    time_label = font.render(f\"Time:{format_time(elapsed_time)}\",1,\"black\")\n",
    "\n",
    "    speed = round(target_pressed / elapsed_time,1)\n",
    "    speed_label = font.render(f\"speed: {speed} t/s\",1,\"black\")\n",
    "\n",
    "    hits_label = font.render(f\"hits: {target_pressed}\",1,\"black\")\n",
    "    lives_label = font.render(f\"lives: {lives - missed}\",1,\"black\")\n",
    "\n",
    "    win.blit(time_label, (5,5))\n",
    "    win.blit(speed_label, (200,5))\n",
    "    win.blit(hits_label, (450,5))\n",
    "    win.blit(lives_label, (600,5))"
   ]
  },
  {
   "cell_type": "code",
   "execution_count": 7,
   "id": "309edef4-f8e5-4d03-9899-7848ced784cf",
   "metadata": {},
   "outputs": [],
   "source": [
    "def end_screen(win,elapsed_time,target_pressed,clicks):\n",
    "    win.fill(\"black\")\n",
    "    time_label = font.render(f\"Time:{format_time(elapsed_time)}\",1,\"white\")\n",
    "\n",
    "    speed = round(target_pressed / elapsed_time,1)\n",
    "    speed_label = font.render(f\"speed: {speed} t/s\",1,\"white\")\n",
    "\n",
    "    hits_label = font.render(f\"hits: {target_pressed}\",1,\"white\")\n",
    "\n",
    "    acc = round(target_pressed / clicks * 100 , 1)\n",
    "    acc_label = font.render(f\"accuracy: {acc}%\",1,\"white\")#it shows accuracy \n",
    "\n",
    "    win.blit(time_label , (middle(time_label), 100))\n",
    "    win.blit(speed_label , (middle(speed_label), 200))\n",
    "    win.blit(hits_label , (middle(hits_label), 300))\n",
    "    win.blit(acc_label , (middle(acc_label), 400))\n",
    "\n",
    "    pygame.display.update()#user can also manually exit the game while pressing something\n",
    "\n",
    "    run = True\n",
    "    while run:\n",
    "        for event in pygame.event.get():\n",
    "            if event.type == pygame.QUIT:\n",
    "                quit()\n",
    "\n",
    "            if event.type == pygame.KEYDOWN:\n",
    "                quit()\n",
    "        \n",
    "def middle(surface): #after completing the game the final stats shows in the middle \n",
    "    return width / 2 - surface.get_width()/2\n",
    "    \n",
    "    "
   ]
  },
  {
   "cell_type": "code",
   "execution_count": null,
   "id": "f9f67178-5fd2-416b-a066-ccc4037cc12f",
   "metadata": {},
   "outputs": [],
   "source": [
    "def main():#main loop for showing window and also if we want to quit the game\n",
    "    run = True\n",
    "    targets = []\n",
    "    clock = pygame.time.Clock()\n",
    "\n",
    "    target_pressed = 0\n",
    "    clicks = 0\n",
    "    missed = 0\n",
    "    start_time = time.time()\n",
    "\n",
    "    pygame.time.set_timer(target_event , target_incr)#new target generate every 400 ms\n",
    "    while run:\n",
    "        clock.tick(60)#that means aims gonna show4 0 frames per second this function means this program runs at same speed in all computer otherwise it will depend on the processor of the computer\n",
    "        click = False\n",
    "        mouse_pos = pygame.mouse.get_pos()\n",
    "        elapsed_time = time.time() - start_time\n",
    "      \n",
    "        \n",
    "        for event in pygame.event.get():\n",
    "            if event.type == pygame.QUIT:\n",
    "                run = False\n",
    "                break\n",
    "\n",
    "            if event.type == target_event:\n",
    "                x = random.randint(target_padding, width - target_padding)\n",
    "                y= random.randint(target_padding + top_bar_height, height - target_padding)\n",
    "                target = Target(x,y)\n",
    "                targets.append(target)#it push target object into the list\n",
    "\n",
    "            if event.type == pygame.MOUSEBUTTONDOWN:\n",
    "                click = True\n",
    "                clicks += 1\n",
    "        for target in targets:\n",
    "            target.update()\n",
    "\n",
    "            if target.size <= 0:\n",
    "                targets.remove(target)\n",
    "                missed += 1\n",
    "            \n",
    "            if click and target.collide(*mouse_pos):\n",
    "                targets.remove(target)\n",
    "                target_pressed +=1\n",
    "\n",
    "        if missed >= lives:\n",
    "            end_screen(WIN,elapsed_time,target_pressed,clicks)\n",
    "            \n",
    "        draw(WIN,targets)\n",
    "        draw_top_bar(WIN,elapsed_time,target_pressed,missed)\n",
    "        pygame.display.update()\n",
    "   \n",
    "    pygame.quit()\n",
    "\n",
    "if __name__ == \"__main__\":\n",
    "    main()"
   ]
  },
  {
   "cell_type": "code",
   "execution_count": null,
   "id": "c9f80711-ded8-41e1-9888-8419e1e89994",
   "metadata": {},
   "outputs": [],
   "source": [
    "\n",
    "\n",
    "\n",
    "\n",
    "\n",
    "\n",
   ]
  },
  {
   "cell_type": "code",
   "execution_count": null,
   "id": "e6188e86-2ab5-427d-9670-ae9eb3cf1b09",
   "metadata": {},
   "outputs": [],
   "source": []
  }
 ],
 "metadata": {
  "kernelspec": {
   "display_name": "Python 3 (ipykernel)",
   "language": "python",
   "name": "python3"
  },
  "language_info": {
   "codemirror_mode": {
    "name": "ipython",
    "version": 3
   },
   "file_extension": ".py",
   "mimetype": "text/x-python",
   "name": "python",
   "nbconvert_exporter": "python",
   "pygments_lexer": "ipython3",
   "version": "3.12.2"
  }
 },
 "nbformat": 4,
 "nbformat_minor": 5
}
